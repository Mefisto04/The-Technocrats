{
  "cells": [
    {
      "cell_type": "code",
      "execution_count": 1,
      "id": "c18b99fa",
      "metadata": {
        "id": "c18b99fa"
      },
      "outputs": [],
      "source": [
        "import numpy as np\n",
        "import pandas as pd\n",
        "import joblib\n",
        "from sklearn.model_selection import train_test_split\n",
        "from sklearn.linear_model import LogisticRegression\n",
        "from sklearn.metrics import accuracy_score"
      ]
    },
    {
      "cell_type": "code",
      "execution_count": 3,
      "id": "d4020867",
      "metadata": {
        "colab": {
          "base_uri": "https://localhost:8080/",
          "height": 206
        },
        "id": "d4020867",
        "outputId": "fef72468-546c-4db0-b3e3-8e0237fd5025"
      },
      "outputs": [
        {
          "output_type": "execute_result",
          "data": {
            "text/plain": [
              "   age  sex  cp  trestbps  chol  fbs  restecg  thalach  exang  oldpeak  slope  \\\n",
              "0   63    1   3       145   233    1        0      150      0      2.3      0   \n",
              "1   37    1   2       130   250    0        1      187      0      3.5      0   \n",
              "2   41    0   1       130   204    0        0      172      0      1.4      2   \n",
              "3   56    1   1       120   236    0        1      178      0      0.8      2   \n",
              "4   57    0   0       120   354    0        1      163      1      0.6      2   \n",
              "\n",
              "   ca  thal  target  \n",
              "0   0     1       1  \n",
              "1   0     2       1  \n",
              "2   0     2       1  \n",
              "3   0     2       1  \n",
              "4   0     2       1  "
            ],
            "text/html": [
              "\n",
              "  <div id=\"df-8e540c5b-b90e-4c6f-9eba-7490a9b2ceee\" class=\"colab-df-container\">\n",
              "    <div>\n",
              "<style scoped>\n",
              "    .dataframe tbody tr th:only-of-type {\n",
              "        vertical-align: middle;\n",
              "    }\n",
              "\n",
              "    .dataframe tbody tr th {\n",
              "        vertical-align: top;\n",
              "    }\n",
              "\n",
              "    .dataframe thead th {\n",
              "        text-align: right;\n",
              "    }\n",
              "</style>\n",
              "<table border=\"1\" class=\"dataframe\">\n",
              "  <thead>\n",
              "    <tr style=\"text-align: right;\">\n",
              "      <th></th>\n",
              "      <th>age</th>\n",
              "      <th>sex</th>\n",
              "      <th>cp</th>\n",
              "      <th>trestbps</th>\n",
              "      <th>chol</th>\n",
              "      <th>fbs</th>\n",
              "      <th>restecg</th>\n",
              "      <th>thalach</th>\n",
              "      <th>exang</th>\n",
              "      <th>oldpeak</th>\n",
              "      <th>slope</th>\n",
              "      <th>ca</th>\n",
              "      <th>thal</th>\n",
              "      <th>target</th>\n",
              "    </tr>\n",
              "  </thead>\n",
              "  <tbody>\n",
              "    <tr>\n",
              "      <th>0</th>\n",
              "      <td>63</td>\n",
              "      <td>1</td>\n",
              "      <td>3</td>\n",
              "      <td>145</td>\n",
              "      <td>233</td>\n",
              "      <td>1</td>\n",
              "      <td>0</td>\n",
              "      <td>150</td>\n",
              "      <td>0</td>\n",
              "      <td>2.3</td>\n",
              "      <td>0</td>\n",
              "      <td>0</td>\n",
              "      <td>1</td>\n",
              "      <td>1</td>\n",
              "    </tr>\n",
              "    <tr>\n",
              "      <th>1</th>\n",
              "      <td>37</td>\n",
              "      <td>1</td>\n",
              "      <td>2</td>\n",
              "      <td>130</td>\n",
              "      <td>250</td>\n",
              "      <td>0</td>\n",
              "      <td>1</td>\n",
              "      <td>187</td>\n",
              "      <td>0</td>\n",
              "      <td>3.5</td>\n",
              "      <td>0</td>\n",
              "      <td>0</td>\n",
              "      <td>2</td>\n",
              "      <td>1</td>\n",
              "    </tr>\n",
              "    <tr>\n",
              "      <th>2</th>\n",
              "      <td>41</td>\n",
              "      <td>0</td>\n",
              "      <td>1</td>\n",
              "      <td>130</td>\n",
              "      <td>204</td>\n",
              "      <td>0</td>\n",
              "      <td>0</td>\n",
              "      <td>172</td>\n",
              "      <td>0</td>\n",
              "      <td>1.4</td>\n",
              "      <td>2</td>\n",
              "      <td>0</td>\n",
              "      <td>2</td>\n",
              "      <td>1</td>\n",
              "    </tr>\n",
              "    <tr>\n",
              "      <th>3</th>\n",
              "      <td>56</td>\n",
              "      <td>1</td>\n",
              "      <td>1</td>\n",
              "      <td>120</td>\n",
              "      <td>236</td>\n",
              "      <td>0</td>\n",
              "      <td>1</td>\n",
              "      <td>178</td>\n",
              "      <td>0</td>\n",
              "      <td>0.8</td>\n",
              "      <td>2</td>\n",
              "      <td>0</td>\n",
              "      <td>2</td>\n",
              "      <td>1</td>\n",
              "    </tr>\n",
              "    <tr>\n",
              "      <th>4</th>\n",
              "      <td>57</td>\n",
              "      <td>0</td>\n",
              "      <td>0</td>\n",
              "      <td>120</td>\n",
              "      <td>354</td>\n",
              "      <td>0</td>\n",
              "      <td>1</td>\n",
              "      <td>163</td>\n",
              "      <td>1</td>\n",
              "      <td>0.6</td>\n",
              "      <td>2</td>\n",
              "      <td>0</td>\n",
              "      <td>2</td>\n",
              "      <td>1</td>\n",
              "    </tr>\n",
              "  </tbody>\n",
              "</table>\n",
              "</div>\n",
              "    <div class=\"colab-df-buttons\">\n",
              "\n",
              "  <div class=\"colab-df-container\">\n",
              "    <button class=\"colab-df-convert\" onclick=\"convertToInteractive('df-8e540c5b-b90e-4c6f-9eba-7490a9b2ceee')\"\n",
              "            title=\"Convert this dataframe to an interactive table.\"\n",
              "            style=\"display:none;\">\n",
              "\n",
              "  <svg xmlns=\"http://www.w3.org/2000/svg\" height=\"24px\" viewBox=\"0 -960 960 960\">\n",
              "    <path d=\"M120-120v-720h720v720H120Zm60-500h600v-160H180v160Zm220 220h160v-160H400v160Zm0 220h160v-160H400v160ZM180-400h160v-160H180v160Zm440 0h160v-160H620v160ZM180-180h160v-160H180v160Zm440 0h160v-160H620v160Z\"/>\n",
              "  </svg>\n",
              "    </button>\n",
              "\n",
              "  <style>\n",
              "    .colab-df-container {\n",
              "      display:flex;\n",
              "      gap: 12px;\n",
              "    }\n",
              "\n",
              "    .colab-df-convert {\n",
              "      background-color: #E8F0FE;\n",
              "      border: none;\n",
              "      border-radius: 50%;\n",
              "      cursor: pointer;\n",
              "      display: none;\n",
              "      fill: #1967D2;\n",
              "      height: 32px;\n",
              "      padding: 0 0 0 0;\n",
              "      width: 32px;\n",
              "    }\n",
              "\n",
              "    .colab-df-convert:hover {\n",
              "      background-color: #E2EBFA;\n",
              "      box-shadow: 0px 1px 2px rgba(60, 64, 67, 0.3), 0px 1px 3px 1px rgba(60, 64, 67, 0.15);\n",
              "      fill: #174EA6;\n",
              "    }\n",
              "\n",
              "    .colab-df-buttons div {\n",
              "      margin-bottom: 4px;\n",
              "    }\n",
              "\n",
              "    [theme=dark] .colab-df-convert {\n",
              "      background-color: #3B4455;\n",
              "      fill: #D2E3FC;\n",
              "    }\n",
              "\n",
              "    [theme=dark] .colab-df-convert:hover {\n",
              "      background-color: #434B5C;\n",
              "      box-shadow: 0px 1px 3px 1px rgba(0, 0, 0, 0.15);\n",
              "      filter: drop-shadow(0px 1px 2px rgba(0, 0, 0, 0.3));\n",
              "      fill: #FFFFFF;\n",
              "    }\n",
              "  </style>\n",
              "\n",
              "    <script>\n",
              "      const buttonEl =\n",
              "        document.querySelector('#df-8e540c5b-b90e-4c6f-9eba-7490a9b2ceee button.colab-df-convert');\n",
              "      buttonEl.style.display =\n",
              "        google.colab.kernel.accessAllowed ? 'block' : 'none';\n",
              "\n",
              "      async function convertToInteractive(key) {\n",
              "        const element = document.querySelector('#df-8e540c5b-b90e-4c6f-9eba-7490a9b2ceee');\n",
              "        const dataTable =\n",
              "          await google.colab.kernel.invokeFunction('convertToInteractive',\n",
              "                                                    [key], {});\n",
              "        if (!dataTable) return;\n",
              "\n",
              "        const docLinkHtml = 'Like what you see? Visit the ' +\n",
              "          '<a target=\"_blank\" href=https://colab.research.google.com/notebooks/data_table.ipynb>data table notebook</a>'\n",
              "          + ' to learn more about interactive tables.';\n",
              "        element.innerHTML = '';\n",
              "        dataTable['output_type'] = 'display_data';\n",
              "        await google.colab.output.renderOutput(dataTable, element);\n",
              "        const docLink = document.createElement('div');\n",
              "        docLink.innerHTML = docLinkHtml;\n",
              "        element.appendChild(docLink);\n",
              "      }\n",
              "    </script>\n",
              "  </div>\n",
              "\n",
              "\n",
              "<div id=\"df-005b9b3a-9635-4ba5-8c4c-7eda6f0569cd\">\n",
              "  <button class=\"colab-df-quickchart\" onclick=\"quickchart('df-005b9b3a-9635-4ba5-8c4c-7eda6f0569cd')\"\n",
              "            title=\"Suggest charts.\"\n",
              "            style=\"display:none;\">\n",
              "\n",
              "<svg xmlns=\"http://www.w3.org/2000/svg\" height=\"24px\"viewBox=\"0 0 24 24\"\n",
              "     width=\"24px\">\n",
              "    <g>\n",
              "        <path d=\"M19 3H5c-1.1 0-2 .9-2 2v14c0 1.1.9 2 2 2h14c1.1 0 2-.9 2-2V5c0-1.1-.9-2-2-2zM9 17H7v-7h2v7zm4 0h-2V7h2v10zm4 0h-2v-4h2v4z\"/>\n",
              "    </g>\n",
              "</svg>\n",
              "  </button>\n",
              "\n",
              "<style>\n",
              "  .colab-df-quickchart {\n",
              "      --bg-color: #E8F0FE;\n",
              "      --fill-color: #1967D2;\n",
              "      --hover-bg-color: #E2EBFA;\n",
              "      --hover-fill-color: #174EA6;\n",
              "      --disabled-fill-color: #AAA;\n",
              "      --disabled-bg-color: #DDD;\n",
              "  }\n",
              "\n",
              "  [theme=dark] .colab-df-quickchart {\n",
              "      --bg-color: #3B4455;\n",
              "      --fill-color: #D2E3FC;\n",
              "      --hover-bg-color: #434B5C;\n",
              "      --hover-fill-color: #FFFFFF;\n",
              "      --disabled-bg-color: #3B4455;\n",
              "      --disabled-fill-color: #666;\n",
              "  }\n",
              "\n",
              "  .colab-df-quickchart {\n",
              "    background-color: var(--bg-color);\n",
              "    border: none;\n",
              "    border-radius: 50%;\n",
              "    cursor: pointer;\n",
              "    display: none;\n",
              "    fill: var(--fill-color);\n",
              "    height: 32px;\n",
              "    padding: 0;\n",
              "    width: 32px;\n",
              "  }\n",
              "\n",
              "  .colab-df-quickchart:hover {\n",
              "    background-color: var(--hover-bg-color);\n",
              "    box-shadow: 0 1px 2px rgba(60, 64, 67, 0.3), 0 1px 3px 1px rgba(60, 64, 67, 0.15);\n",
              "    fill: var(--button-hover-fill-color);\n",
              "  }\n",
              "\n",
              "  .colab-df-quickchart-complete:disabled,\n",
              "  .colab-df-quickchart-complete:disabled:hover {\n",
              "    background-color: var(--disabled-bg-color);\n",
              "    fill: var(--disabled-fill-color);\n",
              "    box-shadow: none;\n",
              "  }\n",
              "\n",
              "  .colab-df-spinner {\n",
              "    border: 2px solid var(--fill-color);\n",
              "    border-color: transparent;\n",
              "    border-bottom-color: var(--fill-color);\n",
              "    animation:\n",
              "      spin 1s steps(1) infinite;\n",
              "  }\n",
              "\n",
              "  @keyframes spin {\n",
              "    0% {\n",
              "      border-color: transparent;\n",
              "      border-bottom-color: var(--fill-color);\n",
              "      border-left-color: var(--fill-color);\n",
              "    }\n",
              "    20% {\n",
              "      border-color: transparent;\n",
              "      border-left-color: var(--fill-color);\n",
              "      border-top-color: var(--fill-color);\n",
              "    }\n",
              "    30% {\n",
              "      border-color: transparent;\n",
              "      border-left-color: var(--fill-color);\n",
              "      border-top-color: var(--fill-color);\n",
              "      border-right-color: var(--fill-color);\n",
              "    }\n",
              "    40% {\n",
              "      border-color: transparent;\n",
              "      border-right-color: var(--fill-color);\n",
              "      border-top-color: var(--fill-color);\n",
              "    }\n",
              "    60% {\n",
              "      border-color: transparent;\n",
              "      border-right-color: var(--fill-color);\n",
              "    }\n",
              "    80% {\n",
              "      border-color: transparent;\n",
              "      border-right-color: var(--fill-color);\n",
              "      border-bottom-color: var(--fill-color);\n",
              "    }\n",
              "    90% {\n",
              "      border-color: transparent;\n",
              "      border-bottom-color: var(--fill-color);\n",
              "    }\n",
              "  }\n",
              "</style>\n",
              "\n",
              "  <script>\n",
              "    async function quickchart(key) {\n",
              "      const quickchartButtonEl =\n",
              "        document.querySelector('#' + key + ' button');\n",
              "      quickchartButtonEl.disabled = true;  // To prevent multiple clicks.\n",
              "      quickchartButtonEl.classList.add('colab-df-spinner');\n",
              "      try {\n",
              "        const charts = await google.colab.kernel.invokeFunction(\n",
              "            'suggestCharts', [key], {});\n",
              "      } catch (error) {\n",
              "        console.error('Error during call to suggestCharts:', error);\n",
              "      }\n",
              "      quickchartButtonEl.classList.remove('colab-df-spinner');\n",
              "      quickchartButtonEl.classList.add('colab-df-quickchart-complete');\n",
              "    }\n",
              "    (() => {\n",
              "      let quickchartButtonEl =\n",
              "        document.querySelector('#df-005b9b3a-9635-4ba5-8c4c-7eda6f0569cd button');\n",
              "      quickchartButtonEl.style.display =\n",
              "        google.colab.kernel.accessAllowed ? 'block' : 'none';\n",
              "    })();\n",
              "  </script>\n",
              "</div>\n",
              "    </div>\n",
              "  </div>\n"
            ]
          },
          "metadata": {},
          "execution_count": 3
        }
      ],
      "source": [
        "# loading the csv data to a Pandas DataFrame\n",
        "heart_data = pd.read_csv('heart_disease_data.csv')\n",
        "heart_data.head()"
      ]
    },
    {
      "cell_type": "markdown",
      "id": "80e15204",
      "metadata": {
        "id": "80e15204"
      },
      "source": [
        "Here is a description of each column:\n",
        "\n",
        "age: age of the patient                                     \n",
        "sex: gender of the patient (0 = female, 1 = male)                                                 \n",
        "cp: chest pain type (0 = typical angina, 1 = atypical angina, 2 = non-anginal pain, 3 = asymptomatic)                                                \n",
        "trestbps: resting blood pressure (in mm Hg)                                          \n",
        "chol: serum cholesterol (in mg/dl)                                                           \n",
        "fbs: fasting blood sugar > 120 mg/dl (1 = true, 0 = false)                                                  \n",
        "restecg: resting electrocardiographic results (0 = normal, 1 = having ST-T wave abnormality, 2 = showing probable or definite left ventricular hypertrophy by Estes' criteria)\n",
        "thalach: maximum heart rate achieved                                                   \n",
        "exang: exercise induced angina (1 = yes, 0 = no)                                                 \n",
        "oldpeak: ST depression induced by exercise relative to rest                                           \n",
        "slope: the slope of the peak exercise ST segment (0 = downsloping, 1 = flat, 2 = upsloping)               \n",
        "ca: number of major vessels colored by fluoroscopy (0-3)                                              \n",
        "thal: thalassemia (0 = normal, 1 = fixed defect, 2 = reversible defect)                                \n",
        "target: presence of heart disease (1 = yes, 0 = no)                                      "
      ]
    },
    {
      "cell_type": "code",
      "execution_count": 6,
      "id": "936f5dc4",
      "metadata": {
        "colab": {
          "base_uri": "https://localhost:8080/"
        },
        "id": "936f5dc4",
        "outputId": "cbee207e-22cd-4595-9ce5-7864712a277f"
      },
      "outputs": [
        {
          "output_type": "execute_result",
          "data": {
            "text/plain": [
              "age         0\n",
              "sex         0\n",
              "cp          0\n",
              "trestbps    0\n",
              "chol        0\n",
              "fbs         0\n",
              "restecg     0\n",
              "thalach     0\n",
              "exang       0\n",
              "oldpeak     0\n",
              "slope       0\n",
              "ca          0\n",
              "thal        0\n",
              "target      0\n",
              "dtype: int64"
            ]
          },
          "metadata": {},
          "execution_count": 6
        }
      ],
      "source": [
        "# checking for missing values\n",
        "heart_data.isnull().sum()"
      ]
    },
    {
      "cell_type": "code",
      "execution_count": 19,
      "id": "4b0cc718",
      "metadata": {
        "id": "4b0cc718"
      },
      "outputs": [],
      "source": [
        "# statistical measures about the data\n",
        "# heart_data.describe()"
      ]
    },
    {
      "cell_type": "code",
      "execution_count": 8,
      "id": "468b35e8",
      "metadata": {
        "id": "468b35e8"
      },
      "outputs": [],
      "source": [
        "X = heart_data.drop(columns='target', axis=1)\n",
        "Y = heart_data['target']"
      ]
    },
    {
      "cell_type": "code",
      "execution_count": 9,
      "id": "710095f0",
      "metadata": {
        "id": "710095f0"
      },
      "outputs": [],
      "source": [
        "X_train, X_test, Y_train, Y_test = train_test_split(X, Y, test_size=0.2, stratify=Y, random_state=2)"
      ]
    },
    {
      "cell_type": "code",
      "execution_count": 10,
      "id": "fc093f33",
      "metadata": {
        "colab": {
          "base_uri": "https://localhost:8080/",
          "height": 221
        },
        "id": "fc093f33",
        "outputId": "5175c5d6-c68c-4015-8267-c60b2d2a756a"
      },
      "outputs": [
        {
          "output_type": "stream",
          "name": "stderr",
          "text": [
            "/usr/local/lib/python3.10/dist-packages/sklearn/linear_model/_logistic.py:458: ConvergenceWarning: lbfgs failed to converge (status=1):\n",
            "STOP: TOTAL NO. of ITERATIONS REACHED LIMIT.\n",
            "\n",
            "Increase the number of iterations (max_iter) or scale the data as shown in:\n",
            "    https://scikit-learn.org/stable/modules/preprocessing.html\n",
            "Please also refer to the documentation for alternative solver options:\n",
            "    https://scikit-learn.org/stable/modules/linear_model.html#logistic-regression\n",
            "  n_iter_i = _check_optimize_result(\n"
          ]
        },
        {
          "output_type": "execute_result",
          "data": {
            "text/plain": [
              "LogisticRegression()"
            ],
            "text/html": [
              "<style>#sk-container-id-1 {color: black;background-color: white;}#sk-container-id-1 pre{padding: 0;}#sk-container-id-1 div.sk-toggleable {background-color: white;}#sk-container-id-1 label.sk-toggleable__label {cursor: pointer;display: block;width: 100%;margin-bottom: 0;padding: 0.3em;box-sizing: border-box;text-align: center;}#sk-container-id-1 label.sk-toggleable__label-arrow:before {content: \"▸\";float: left;margin-right: 0.25em;color: #696969;}#sk-container-id-1 label.sk-toggleable__label-arrow:hover:before {color: black;}#sk-container-id-1 div.sk-estimator:hover label.sk-toggleable__label-arrow:before {color: black;}#sk-container-id-1 div.sk-toggleable__content {max-height: 0;max-width: 0;overflow: hidden;text-align: left;background-color: #f0f8ff;}#sk-container-id-1 div.sk-toggleable__content pre {margin: 0.2em;color: black;border-radius: 0.25em;background-color: #f0f8ff;}#sk-container-id-1 input.sk-toggleable__control:checked~div.sk-toggleable__content {max-height: 200px;max-width: 100%;overflow: auto;}#sk-container-id-1 input.sk-toggleable__control:checked~label.sk-toggleable__label-arrow:before {content: \"▾\";}#sk-container-id-1 div.sk-estimator input.sk-toggleable__control:checked~label.sk-toggleable__label {background-color: #d4ebff;}#sk-container-id-1 div.sk-label input.sk-toggleable__control:checked~label.sk-toggleable__label {background-color: #d4ebff;}#sk-container-id-1 input.sk-hidden--visually {border: 0;clip: rect(1px 1px 1px 1px);clip: rect(1px, 1px, 1px, 1px);height: 1px;margin: -1px;overflow: hidden;padding: 0;position: absolute;width: 1px;}#sk-container-id-1 div.sk-estimator {font-family: monospace;background-color: #f0f8ff;border: 1px dotted black;border-radius: 0.25em;box-sizing: border-box;margin-bottom: 0.5em;}#sk-container-id-1 div.sk-estimator:hover {background-color: #d4ebff;}#sk-container-id-1 div.sk-parallel-item::after {content: \"\";width: 100%;border-bottom: 1px solid gray;flex-grow: 1;}#sk-container-id-1 div.sk-label:hover label.sk-toggleable__label {background-color: #d4ebff;}#sk-container-id-1 div.sk-serial::before {content: \"\";position: absolute;border-left: 1px solid gray;box-sizing: border-box;top: 0;bottom: 0;left: 50%;z-index: 0;}#sk-container-id-1 div.sk-serial {display: flex;flex-direction: column;align-items: center;background-color: white;padding-right: 0.2em;padding-left: 0.2em;position: relative;}#sk-container-id-1 div.sk-item {position: relative;z-index: 1;}#sk-container-id-1 div.sk-parallel {display: flex;align-items: stretch;justify-content: center;background-color: white;position: relative;}#sk-container-id-1 div.sk-item::before, #sk-container-id-1 div.sk-parallel-item::before {content: \"\";position: absolute;border-left: 1px solid gray;box-sizing: border-box;top: 0;bottom: 0;left: 50%;z-index: -1;}#sk-container-id-1 div.sk-parallel-item {display: flex;flex-direction: column;z-index: 1;position: relative;background-color: white;}#sk-container-id-1 div.sk-parallel-item:first-child::after {align-self: flex-end;width: 50%;}#sk-container-id-1 div.sk-parallel-item:last-child::after {align-self: flex-start;width: 50%;}#sk-container-id-1 div.sk-parallel-item:only-child::after {width: 0;}#sk-container-id-1 div.sk-dashed-wrapped {border: 1px dashed gray;margin: 0 0.4em 0.5em 0.4em;box-sizing: border-box;padding-bottom: 0.4em;background-color: white;}#sk-container-id-1 div.sk-label label {font-family: monospace;font-weight: bold;display: inline-block;line-height: 1.2em;}#sk-container-id-1 div.sk-label-container {text-align: center;}#sk-container-id-1 div.sk-container {/* jupyter's `normalize.less` sets `[hidden] { display: none; }` but bootstrap.min.css set `[hidden] { display: none !important; }` so we also need the `!important` here to be able to override the default hidden behavior on the sphinx rendered scikit-learn.org. See: https://github.com/scikit-learn/scikit-learn/issues/21755 */display: inline-block !important;position: relative;}#sk-container-id-1 div.sk-text-repr-fallback {display: none;}</style><div id=\"sk-container-id-1\" class=\"sk-top-container\"><div class=\"sk-text-repr-fallback\"><pre>LogisticRegression()</pre><b>In a Jupyter environment, please rerun this cell to show the HTML representation or trust the notebook. <br />On GitHub, the HTML representation is unable to render, please try loading this page with nbviewer.org.</b></div><div class=\"sk-container\" hidden><div class=\"sk-item\"><div class=\"sk-estimator sk-toggleable\"><input class=\"sk-toggleable__control sk-hidden--visually\" id=\"sk-estimator-id-1\" type=\"checkbox\" checked><label for=\"sk-estimator-id-1\" class=\"sk-toggleable__label sk-toggleable__label-arrow\">LogisticRegression</label><div class=\"sk-toggleable__content\"><pre>LogisticRegression()</pre></div></div></div></div></div>"
            ]
          },
          "metadata": {},
          "execution_count": 10
        }
      ],
      "source": [
        "model = LogisticRegression()\n",
        "# training the LogisticRegression model with Training data\n",
        "model.fit(X_train, Y_train)"
      ]
    },
    {
      "cell_type": "code",
      "execution_count": 11,
      "id": "d6893147",
      "metadata": {
        "colab": {
          "base_uri": "https://localhost:8080/"
        },
        "id": "d6893147",
        "outputId": "e7ef9a4b-3cf6-49bc-fc8a-11fa75df592f"
      },
      "outputs": [
        {
          "output_type": "stream",
          "name": "stdout",
          "text": [
            "0.8512396694214877\n"
          ]
        }
      ],
      "source": [
        "# accuracy on training data\n",
        "X_train_prediction = model.predict(X_train)\n",
        "training_data_accuracy = accuracy_score(X_train_prediction, Y_train)\n",
        "print(training_data_accuracy)"
      ]
    },
    {
      "cell_type": "code",
      "execution_count": 12,
      "id": "555ec6b0",
      "metadata": {
        "colab": {
          "base_uri": "https://localhost:8080/"
        },
        "id": "555ec6b0",
        "outputId": "63c931e0-fafa-4d15-c5ad-47f30e780cf3"
      },
      "outputs": [
        {
          "output_type": "execute_result",
          "data": {
            "text/plain": [
              "0.819672131147541"
            ]
          },
          "metadata": {},
          "execution_count": 12
        }
      ],
      "source": [
        "# accuracy on test data\n",
        "X_test_prediction = model.predict(X_test)\n",
        "test_data_accuracy = accuracy_score(X_test_prediction, Y_test)\n",
        "test_data_accuracy"
      ]
    },
    {
      "cell_type": "code",
      "source": [
        "!pip install catboost"
      ],
      "metadata": {
        "colab": {
          "base_uri": "https://localhost:8080/"
        },
        "id": "A8x31s_fpaY9",
        "outputId": "932eaec6-85df-491e-e816-4eb266e48749"
      },
      "id": "A8x31s_fpaY9",
      "execution_count": 13,
      "outputs": [
        {
          "output_type": "stream",
          "name": "stdout",
          "text": [
            "Collecting catboost\n",
            "  Downloading catboost-1.2.2-cp310-cp310-manylinux2014_x86_64.whl (98.7 MB)\n",
            "\u001b[2K     \u001b[90m━━━━━━━━━━━━━━━━━━━━━━━━━━━━━━━━━━━━━━━━\u001b[0m \u001b[32m98.7/98.7 MB\u001b[0m \u001b[31m10.6 MB/s\u001b[0m eta \u001b[36m0:00:00\u001b[0m\n",
            "\u001b[?25hRequirement already satisfied: graphviz in /usr/local/lib/python3.10/dist-packages (from catboost) (0.20.1)\n",
            "Requirement already satisfied: matplotlib in /usr/local/lib/python3.10/dist-packages (from catboost) (3.7.1)\n",
            "Requirement already satisfied: numpy>=1.16.0 in /usr/local/lib/python3.10/dist-packages (from catboost) (1.23.5)\n",
            "Requirement already satisfied: pandas>=0.24 in /usr/local/lib/python3.10/dist-packages (from catboost) (1.5.3)\n",
            "Requirement already satisfied: scipy in /usr/local/lib/python3.10/dist-packages (from catboost) (1.11.3)\n",
            "Requirement already satisfied: plotly in /usr/local/lib/python3.10/dist-packages (from catboost) (5.15.0)\n",
            "Requirement already satisfied: six in /usr/local/lib/python3.10/dist-packages (from catboost) (1.16.0)\n",
            "Requirement already satisfied: python-dateutil>=2.8.1 in /usr/local/lib/python3.10/dist-packages (from pandas>=0.24->catboost) (2.8.2)\n",
            "Requirement already satisfied: pytz>=2020.1 in /usr/local/lib/python3.10/dist-packages (from pandas>=0.24->catboost) (2023.3.post1)\n",
            "Requirement already satisfied: contourpy>=1.0.1 in /usr/local/lib/python3.10/dist-packages (from matplotlib->catboost) (1.1.1)\n",
            "Requirement already satisfied: cycler>=0.10 in /usr/local/lib/python3.10/dist-packages (from matplotlib->catboost) (0.12.0)\n",
            "Requirement already satisfied: fonttools>=4.22.0 in /usr/local/lib/python3.10/dist-packages (from matplotlib->catboost) (4.43.1)\n",
            "Requirement already satisfied: kiwisolver>=1.0.1 in /usr/local/lib/python3.10/dist-packages (from matplotlib->catboost) (1.4.5)\n",
            "Requirement already satisfied: packaging>=20.0 in /usr/local/lib/python3.10/dist-packages (from matplotlib->catboost) (23.2)\n",
            "Requirement already satisfied: pillow>=6.2.0 in /usr/local/lib/python3.10/dist-packages (from matplotlib->catboost) (9.4.0)\n",
            "Requirement already satisfied: pyparsing>=2.3.1 in /usr/local/lib/python3.10/dist-packages (from matplotlib->catboost) (3.1.1)\n",
            "Requirement already satisfied: tenacity>=6.2.0 in /usr/local/lib/python3.10/dist-packages (from plotly->catboost) (8.2.3)\n",
            "Installing collected packages: catboost\n",
            "Successfully installed catboost-1.2.2\n"
          ]
        }
      ]
    },
    {
      "cell_type": "code",
      "source": [
        "X = heart_data.drop(columns='target', axis=1)\n",
        "Y = heart_data['target']"
      ],
      "metadata": {
        "id": "wUTjsCGrp5W7"
      },
      "id": "wUTjsCGrp5W7",
      "execution_count": 14,
      "outputs": []
    },
    {
      "cell_type": "code",
      "source": [
        "import numpy as np\n",
        "import pandas as pd\n",
        "from sklearn.model_selection import train_test_split\n",
        "from catboost import CatBoostClassifier\n",
        "from sklearn.metrics import accuracy_score\n",
        "\n",
        "# Load your dataset and perform data preprocessing (X and Y).\n",
        "\n",
        "# Split the data into training and test sets.\n",
        "X_train, X_test, Y_train, Y_test = train_test_split(X, Y, test_size=0.2, random_state=2)\n",
        "\n",
        "# Create a CatBoost classifier.\n",
        "model = CatBoostClassifier(iterations=100, depth=6, learning_rate=0.1, loss_function='Logloss')\n",
        "\n",
        "# Training the CatBoost model with training data.\n",
        "model.fit(X_train, Y_train)\n",
        "\n",
        "# Accuracy on the training data.\n",
        "X_train_prediction = model.predict(X_train)\n",
        "training_data_accuracy = accuracy_score(Y_train, X_train_prediction)\n",
        "print(\"Training Data Accuracy:\", training_data_accuracy)\n",
        "\n",
        "# Accuracy on the test data.\n",
        "X_test_prediction = model.predict(X_test)\n",
        "test_data_accuracy = accuracy_score(Y_test, X_test_prediction)\n",
        "print(\"Test Data Accuracy:\", test_data_accuracy)\n"
      ],
      "metadata": {
        "colab": {
          "base_uri": "https://localhost:8080/"
        },
        "id": "hkJOZFT-o0Mw",
        "outputId": "e7eaeaa0-7479-4cd3-b100-8708bff8fa1d"
      },
      "id": "hkJOZFT-o0Mw",
      "execution_count": 15,
      "outputs": [
        {
          "output_type": "stream",
          "name": "stdout",
          "text": [
            "0:\tlearn: 0.6645517\ttotal: 47.4ms\tremaining: 4.69s\n",
            "1:\tlearn: 0.6409540\ttotal: 48.4ms\tremaining: 2.37s\n",
            "2:\tlearn: 0.6196643\ttotal: 50.1ms\tremaining: 1.62s\n",
            "3:\tlearn: 0.6013568\ttotal: 51.1ms\tremaining: 1.23s\n",
            "4:\tlearn: 0.5822471\ttotal: 52ms\tremaining: 988ms\n",
            "5:\tlearn: 0.5675466\ttotal: 52.8ms\tremaining: 828ms\n",
            "6:\tlearn: 0.5493878\ttotal: 53.6ms\tremaining: 713ms\n",
            "7:\tlearn: 0.5367728\ttotal: 54.5ms\tremaining: 627ms\n",
            "8:\tlearn: 0.5243598\ttotal: 55.4ms\tremaining: 560ms\n",
            "9:\tlearn: 0.5119162\ttotal: 56.2ms\tremaining: 506ms\n",
            "10:\tlearn: 0.5031497\ttotal: 57ms\tremaining: 461ms\n",
            "11:\tlearn: 0.4931284\ttotal: 57.7ms\tremaining: 423ms\n",
            "12:\tlearn: 0.4840162\ttotal: 58.7ms\tremaining: 393ms\n",
            "13:\tlearn: 0.4735327\ttotal: 59.2ms\tremaining: 364ms\n",
            "14:\tlearn: 0.4626056\ttotal: 60.1ms\tremaining: 340ms\n",
            "15:\tlearn: 0.4550936\ttotal: 60.9ms\tremaining: 320ms\n",
            "16:\tlearn: 0.4474164\ttotal: 61.8ms\tremaining: 302ms\n",
            "17:\tlearn: 0.4397248\ttotal: 62.7ms\tremaining: 286ms\n",
            "18:\tlearn: 0.4321199\ttotal: 63.5ms\tremaining: 271ms\n",
            "19:\tlearn: 0.4261718\ttotal: 64.1ms\tremaining: 257ms\n",
            "20:\tlearn: 0.4188612\ttotal: 65ms\tremaining: 245ms\n",
            "21:\tlearn: 0.4110292\ttotal: 66ms\tremaining: 234ms\n",
            "22:\tlearn: 0.4057673\ttotal: 66.8ms\tremaining: 224ms\n",
            "23:\tlearn: 0.3990078\ttotal: 67.6ms\tremaining: 214ms\n",
            "24:\tlearn: 0.3919428\ttotal: 68.5ms\tremaining: 205ms\n",
            "25:\tlearn: 0.3862700\ttotal: 69.3ms\tremaining: 197ms\n",
            "26:\tlearn: 0.3806253\ttotal: 70.1ms\tremaining: 190ms\n",
            "27:\tlearn: 0.3746475\ttotal: 70.9ms\tremaining: 182ms\n",
            "28:\tlearn: 0.3708401\ttotal: 71.7ms\tremaining: 176ms\n",
            "29:\tlearn: 0.3654198\ttotal: 72.6ms\tremaining: 169ms\n",
            "30:\tlearn: 0.3611055\ttotal: 73.4ms\tremaining: 163ms\n",
            "31:\tlearn: 0.3565098\ttotal: 74.2ms\tremaining: 158ms\n",
            "32:\tlearn: 0.3520896\ttotal: 75ms\tremaining: 152ms\n",
            "33:\tlearn: 0.3479916\ttotal: 75.9ms\tremaining: 147ms\n",
            "34:\tlearn: 0.3439233\ttotal: 76.8ms\tremaining: 143ms\n",
            "35:\tlearn: 0.3393569\ttotal: 78.1ms\tremaining: 139ms\n",
            "36:\tlearn: 0.3357017\ttotal: 78.7ms\tremaining: 134ms\n",
            "37:\tlearn: 0.3319869\ttotal: 79.3ms\tremaining: 129ms\n",
            "38:\tlearn: 0.3266310\ttotal: 79.9ms\tremaining: 125ms\n",
            "39:\tlearn: 0.3232799\ttotal: 80.7ms\tremaining: 121ms\n",
            "40:\tlearn: 0.3200605\ttotal: 81.5ms\tremaining: 117ms\n",
            "41:\tlearn: 0.3167145\ttotal: 82.3ms\tremaining: 114ms\n",
            "42:\tlearn: 0.3144163\ttotal: 83.1ms\tremaining: 110ms\n",
            "43:\tlearn: 0.3116221\ttotal: 83.9ms\tremaining: 107ms\n",
            "44:\tlearn: 0.3084524\ttotal: 84.7ms\tremaining: 104ms\n",
            "45:\tlearn: 0.3051157\ttotal: 85.6ms\tremaining: 101ms\n",
            "46:\tlearn: 0.3025717\ttotal: 86.4ms\tremaining: 97.5ms\n",
            "47:\tlearn: 0.2995928\ttotal: 87.2ms\tremaining: 94.5ms\n",
            "48:\tlearn: 0.2961550\ttotal: 88ms\tremaining: 91.6ms\n",
            "49:\tlearn: 0.2931517\ttotal: 88.8ms\tremaining: 88.8ms\n",
            "50:\tlearn: 0.2910072\ttotal: 89.6ms\tremaining: 86.1ms\n",
            "51:\tlearn: 0.2882302\ttotal: 90.4ms\tremaining: 83.5ms\n",
            "52:\tlearn: 0.2851549\ttotal: 91.3ms\tremaining: 80.9ms\n",
            "53:\tlearn: 0.2831540\ttotal: 92.2ms\tremaining: 78.5ms\n",
            "54:\tlearn: 0.2803640\ttotal: 93ms\tremaining: 76.1ms\n",
            "55:\tlearn: 0.2771435\ttotal: 93.8ms\tremaining: 73.7ms\n",
            "56:\tlearn: 0.2752370\ttotal: 94.6ms\tremaining: 71.4ms\n",
            "57:\tlearn: 0.2726932\ttotal: 95.4ms\tremaining: 69.1ms\n",
            "58:\tlearn: 0.2702478\ttotal: 96.3ms\tremaining: 66.9ms\n",
            "59:\tlearn: 0.2683306\ttotal: 97.1ms\tremaining: 64.7ms\n",
            "60:\tlearn: 0.2658640\ttotal: 97.9ms\tremaining: 62.6ms\n",
            "61:\tlearn: 0.2633369\ttotal: 98.7ms\tremaining: 60.5ms\n",
            "62:\tlearn: 0.2611170\ttotal: 99.5ms\tremaining: 58.4ms\n",
            "63:\tlearn: 0.2586727\ttotal: 100ms\tremaining: 56.5ms\n",
            "64:\tlearn: 0.2558854\ttotal: 101ms\tremaining: 54.5ms\n",
            "65:\tlearn: 0.2533656\ttotal: 102ms\tremaining: 52.6ms\n",
            "66:\tlearn: 0.2506665\ttotal: 103ms\tremaining: 50.8ms\n",
            "67:\tlearn: 0.2487044\ttotal: 104ms\tremaining: 48.9ms\n",
            "68:\tlearn: 0.2465418\ttotal: 105ms\tremaining: 47.1ms\n",
            "69:\tlearn: 0.2438736\ttotal: 106ms\tremaining: 45.3ms\n",
            "70:\tlearn: 0.2414791\ttotal: 106ms\tremaining: 43.5ms\n",
            "71:\tlearn: 0.2389411\ttotal: 107ms\tremaining: 41.7ms\n",
            "72:\tlearn: 0.2365239\ttotal: 108ms\tremaining: 40ms\n",
            "73:\tlearn: 0.2342374\ttotal: 109ms\tremaining: 38.3ms\n",
            "74:\tlearn: 0.2323619\ttotal: 110ms\tremaining: 36.6ms\n",
            "75:\tlearn: 0.2306902\ttotal: 111ms\tremaining: 34.9ms\n",
            "76:\tlearn: 0.2281631\ttotal: 111ms\tremaining: 33.3ms\n",
            "77:\tlearn: 0.2261421\ttotal: 112ms\tremaining: 31.7ms\n",
            "78:\tlearn: 0.2242652\ttotal: 113ms\tremaining: 30.1ms\n",
            "79:\tlearn: 0.2221218\ttotal: 114ms\tremaining: 28.5ms\n",
            "80:\tlearn: 0.2204334\ttotal: 115ms\tremaining: 26.9ms\n",
            "81:\tlearn: 0.2179932\ttotal: 116ms\tremaining: 25.4ms\n",
            "82:\tlearn: 0.2160058\ttotal: 116ms\tremaining: 23.8ms\n",
            "83:\tlearn: 0.2147149\ttotal: 117ms\tremaining: 22.3ms\n",
            "84:\tlearn: 0.2125921\ttotal: 118ms\tremaining: 20.8ms\n",
            "85:\tlearn: 0.2112685\ttotal: 119ms\tremaining: 19.3ms\n",
            "86:\tlearn: 0.2098862\ttotal: 120ms\tremaining: 17.9ms\n",
            "87:\tlearn: 0.2085808\ttotal: 120ms\tremaining: 16.4ms\n",
            "88:\tlearn: 0.2069932\ttotal: 121ms\tremaining: 15ms\n",
            "89:\tlearn: 0.2060063\ttotal: 122ms\tremaining: 13.6ms\n",
            "90:\tlearn: 0.2041000\ttotal: 123ms\tremaining: 12.2ms\n",
            "91:\tlearn: 0.2027822\ttotal: 124ms\tremaining: 10.8ms\n",
            "92:\tlearn: 0.2017144\ttotal: 124ms\tremaining: 9.37ms\n",
            "93:\tlearn: 0.2000345\ttotal: 125ms\tremaining: 8ms\n",
            "94:\tlearn: 0.1987124\ttotal: 127ms\tremaining: 6.68ms\n",
            "95:\tlearn: 0.1974746\ttotal: 128ms\tremaining: 5.33ms\n",
            "96:\tlearn: 0.1952782\ttotal: 129ms\tremaining: 3.98ms\n",
            "97:\tlearn: 0.1932929\ttotal: 129ms\tremaining: 2.64ms\n",
            "98:\tlearn: 0.1920003\ttotal: 130ms\tremaining: 1.32ms\n",
            "99:\tlearn: 0.1904208\ttotal: 131ms\tremaining: 0us\n",
            "Training Data Accuracy: 0.9752066115702479\n",
            "Test Data Accuracy: 0.9016393442622951\n"
          ]
        }
      ]
    },
    {
      "cell_type": "markdown",
      "id": "64cd9449",
      "metadata": {
        "id": "64cd9449"
      },
      "source": [
        "# Prediction System"
      ]
    },
    {
      "cell_type": "code",
      "execution_count": 18,
      "id": "94cc1d9f",
      "metadata": {
        "colab": {
          "base_uri": "https://localhost:8080/"
        },
        "id": "94cc1d9f",
        "outputId": "3c7634c5-253d-46ff-a2fa-bd7d357bb32b"
      },
      "outputs": [
        {
          "output_type": "stream",
          "name": "stdout",
          "text": [
            "the person doesnt have a heart disease\n"
          ]
        }
      ],
      "source": [
        "input_data = (43,1,0,120,177,0,0,120,1,2.5,1,0,3)\n",
        "np_data = np.asarray(input_data)\n",
        "reshaped_df = np_data.reshape(1,-1)\n",
        "pred = model.predict(reshaped_df)\n",
        "if pred[0] == 0:\n",
        "    print(\"the person doesnt have a heart disease\")\n",
        "else:\n",
        "    print('the person does have a heart desease')"
      ]
    },
    {
      "cell_type": "code",
      "execution_count": 17,
      "id": "23497d56",
      "metadata": {
        "colab": {
          "base_uri": "https://localhost:8080/"
        },
        "id": "23497d56",
        "outputId": "4ddb0bf9-a62a-47ee-cbc5-b7dd76f3fe49"
      },
      "outputs": [
        {
          "output_type": "stream",
          "name": "stdout",
          "text": [
            "The person doesn't have heart disease.\n"
          ]
        }
      ],
      "source": [
        "# Get user input for the features\n",
        "# age = float(input(\"Enter age: \"))\n",
        "# sex = float(input(\"Enter sex (0 for female, 1 for male): \"))\n",
        "# cp = float(input(\"Enter chest pain type (0-3): \"))\n",
        "# trestbps = float(input(\"Enter resting blood pressure: \"))\n",
        "# chol = float(input(\"Enter serum cholesterol (mg/dl): \"))\n",
        "# fbs = float(input(\"Enter fasting blood sugar (0 for <= 120 mg/dl, 1 for > 120 mg/dl): \"))\n",
        "# restecg = float(input(\"Enter resting electrocardiographic results (0-2): \"))\n",
        "# thalach = float(input(\"Enter maximum heart rate achieved: \"))\n",
        "# exang = float(input(\"Enter exercise-induced angina (0 for no, 1 for yes): \"))\n",
        "# oldpeak = float(input(\"Enter ST depression induced by exercise relative to rest: \"))\n",
        "# slope = float(input(\"Enter slope of the peak exercise ST segment (0-2): \"))\n",
        "# ca = float(input(\"Enter number of major vessels colored by fluoroscopy (0-3): \"))\n",
        "# thal = float(input(\"Enter thalassemia type (0-2): \"))\n",
        "\n",
        "# Create a NumPy array with the input data\n",
        "inputs = (43,1,0,120,177,0,0,120,1,2.5,1,0,3)\n",
        "# input_data = np.array([age, sex, cp, trestbps, chol, fbs, restecg, thalach, exang, oldpeak, slope, ca, thal])\n",
        "np_data = np.asarray(inputs)\n",
        "# Reshape the input data to match the model's input shape (assuming your model expects a 2D array)\n",
        "reshaped_data = np_data.reshape(1, -1)\n",
        "\n",
        "# Make predictions\n",
        "pred = model.predict(reshaped_data)\n",
        "\n",
        "if pred[0] == 0:\n",
        "    print(\"The person doesn't have heart disease.\")\n",
        "else:\n",
        "    print(\"The person does have heart disease.\")"
      ]
    },
    {
      "cell_type": "code",
      "source": [],
      "metadata": {
        "id": "fqj1z_nXNGy1"
      },
      "id": "fqj1z_nXNGy1",
      "execution_count": null,
      "outputs": []
    }
  ],
  "metadata": {
    "kernelspec": {
      "display_name": "Python 3 (ipykernel)",
      "language": "python",
      "name": "python3"
    },
    "language_info": {
      "codemirror_mode": {
        "name": "ipython",
        "version": 3
      },
      "file_extension": ".py",
      "mimetype": "text/x-python",
      "name": "python",
      "nbconvert_exporter": "python",
      "pygments_lexer": "ipython3",
      "version": "3.10.6"
    },
    "colab": {
      "provenance": []
    }
  },
  "nbformat": 4,
  "nbformat_minor": 5
}